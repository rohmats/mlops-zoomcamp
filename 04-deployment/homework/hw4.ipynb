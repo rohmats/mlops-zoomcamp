{
 "cells": [
  {
   "cell_type": "markdown",
   "metadata": {},
   "source": [
    "# Q1. Notebook"
   ]
  },
  {
   "cell_type": "code",
   "execution_count": 4,
   "metadata": {},
   "outputs": [
    {
     "name": "stdout",
     "output_type": "stream",
     "text": [
      "    The standard deviation of the prediction is 6.247488852238703\n"
     ]
    }
   ],
   "source": [
    "! jupyter nbconvert  --log-level 50 --execute --stdout --to markdown --no-input starter.ipynb   | grep 'deviation' "
   ]
  },
  {
   "cell_type": "markdown",
   "metadata": {},
   "source": [
    "# Q2. Preparing the output"
   ]
  },
  {
   "cell_type": "code",
   "execution_count": 11,
   "metadata": {},
   "outputs": [
    {
     "name": "stdout",
     "output_type": "stream",
     "text": [
      "    The size of the prediction file is 65.46185111999512 MB\n"
     ]
    }
   ],
   "source": [
    "! jupyter nbconvert  --log-level 50 --execute --stdout --to markdown --no-input starter.ipynb   | grep 'size'"
   ]
  },
  {
   "cell_type": "markdown",
   "metadata": {},
   "source": [
    "# Q3. Creating the scoring script"
   ]
  },
  {
   "cell_type": "code",
   "execution_count": 19,
   "metadata": {},
   "outputs": [
    {
     "name": "stdout",
     "output_type": "stream",
     "text": [
      "[NbConvertApp] Converting notebook starter.ipynb to script\n",
      "[NbConvertApp] Writing 1456 bytes to predict.py\n"
     ]
    }
   ],
   "source": [
    "! jupyter nbconvert --to script starter.ipynb --no-prompt --output \"predict\""
   ]
  },
  {
   "cell_type": "markdown",
   "metadata": {},
   "source": [
    "# Q4. Virtual environment"
   ]
  },
  {
   "cell_type": "code",
   "execution_count": 33,
   "metadata": {},
   "outputs": [
    {
     "name": "stdout",
     "output_type": "stream",
     "text": [
      "first hash for the Scikit-Learn dependency:\n",
      "\u001b[0;32m\"sha256:057b991ac64b3e75c9c04b5f9395eaf19a6179244c089afdebaad98264bff37c\"\u001b[0m\n"
     ]
    }
   ],
   "source": [
    "print('first hash for the Scikit-Learn dependency:')\n",
    "!jq '.default.\"scikit-learn\".hashes[0]' Pipfile.lock"
   ]
  }
 ],
 "metadata": {
  "kernelspec": {
   "display_name": "Python 3",
   "language": "python",
   "name": "python3"
  },
  "language_info": {
   "codemirror_mode": {
    "name": "ipython",
    "version": 3
   },
   "file_extension": ".py",
   "mimetype": "text/x-python",
   "name": "python",
   "nbconvert_exporter": "python",
   "pygments_lexer": "ipython3",
   "version": "3.10.13"
  }
 },
 "nbformat": 4,
 "nbformat_minor": 2
}
