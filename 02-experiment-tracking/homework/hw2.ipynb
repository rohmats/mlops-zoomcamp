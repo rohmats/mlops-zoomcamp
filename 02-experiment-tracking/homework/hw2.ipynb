{
 "cells": [
  {
   "cell_type": "markdown",
   "metadata": {},
   "source": [
    "# Q1. Install MLflow"
   ]
  },
  {
   "cell_type": "code",
   "execution_count": 1,
   "metadata": {},
   "outputs": [
    {
     "name": "stdout",
     "output_type": "stream",
     "text": [
      "\u001b[31mERROR: Could not find a version that satisfies the requirement ml (from versions: none)\u001b[0m\u001b[31m\n",
      "\u001b[0m\u001b[31mERROR: No matching distribution found for ml\u001b[0m\u001b[31m\n",
      "\u001b[0m"
     ]
    }
   ],
   "source": [
    "! pip install ml"
   ]
  },
  {
   "cell_type": "code",
   "execution_count": 2,
   "metadata": {},
   "outputs": [
    {
     "name": "stdout",
     "output_type": "stream",
     "text": [
      "mlflow, version 2.13.0\n"
     ]
    }
   ],
   "source": [
    "# Q1\n",
    "! mlflow --version"
   ]
  },
  {
   "cell_type": "markdown",
   "metadata": {},
   "source": [
    "# Q2. Download and preprocess the data"
   ]
  },
  {
   "cell_type": "code",
   "execution_count": 4,
   "metadata": {},
   "outputs": [
    {
     "name": "stdout",
     "output_type": "stream",
     "text": [
      "--2024-05-24 08:17:47--  https://d37ci6vzurychx.cloudfront.net/trip-data/green_tripdata_2023-01.parquet\n",
      "Resolving d37ci6vzurychx.cloudfront.net (d37ci6vzurychx.cloudfront.net)... 18.161.3.209, 18.161.3.141, 18.161.3.119, ...\n",
      "Connecting to d37ci6vzurychx.cloudfront.net (d37ci6vzurychx.cloudfront.net)|18.161.3.209|:443... connected.\n",
      "HTTP request sent, awaiting response... 200 OK\n",
      "Length: 1427002 (1.4M) [binary/octet-stream]\n",
      "Saving to: ‘data/green_tripdata_2023-01.parquet’\n",
      "\n",
      "green_tripdata_2023 100%[===================>]   1.36M  1.58MB/s    in 0.9s    \n",
      "\n",
      "2024-05-24 08:17:49 (1.58 MB/s) - ‘data/green_tripdata_2023-01.parquet’ saved [1427002/1427002]\n",
      "\n",
      "--2024-05-24 08:17:49--  https://d37ci6vzurychx.cloudfront.net/trip-data/green_tripdata_2023-02.parquet\n",
      "Resolving d37ci6vzurychx.cloudfront.net (d37ci6vzurychx.cloudfront.net)... 18.161.3.209, 18.161.3.119, 18.161.3.58, ...\n",
      "Connecting to d37ci6vzurychx.cloudfront.net (d37ci6vzurychx.cloudfront.net)|18.161.3.209|:443... connected.\n",
      "HTTP request sent, awaiting response... 200 OK\n",
      "Length: 1533740 (1.5M) [binary/octet-stream]\n",
      "Saving to: ‘data/green_tripdata_2023-02.parquet’\n",
      "\n",
      "green_tripdata_2023 100%[===================>]   1.46M  1.64MB/s    in 0.9s    \n",
      "\n",
      "2024-05-24 08:17:51 (1.64 MB/s) - ‘data/green_tripdata_2023-02.parquet’ saved [1533740/1533740]\n",
      "\n",
      "--2024-05-24 08:17:51--  https://d37ci6vzurychx.cloudfront.net/trip-data/green_tripdata_2023-03.parquet\n",
      "Resolving d37ci6vzurychx.cloudfront.net (d37ci6vzurychx.cloudfront.net)... 18.161.3.119, 18.161.3.58, 18.161.3.209, ...\n",
      "Connecting to d37ci6vzurychx.cloudfront.net (d37ci6vzurychx.cloudfront.net)|18.161.3.119|:443... connected.\n",
      "HTTP request sent, awaiting response... 200 OK\n",
      "Length: 1730999 (1.7M) [binary/octet-stream]\n",
      "Saving to: ‘data/green_tripdata_2023-03.parquet’\n",
      "\n",
      "green_tripdata_2023 100%[===================>]   1.65M  1.84MB/s    in 0.9s    \n",
      "\n",
      "2024-05-24 08:17:52 (1.84 MB/s) - ‘data/green_tripdata_2023-03.parquet’ saved [1730999/1730999]\n",
      "\n"
     ]
    }
   ],
   "source": [
    "links = [\n",
    "    \"https://d37ci6vzurychx.cloudfront.net/trip-data/green_tripdata_2023-01.parquet\",\n",
    "    \"https://d37ci6vzurychx.cloudfront.net/trip-data/green_tripdata_2023-02.parquet\",\n",
    "    \"https://d37ci6vzurychx.cloudfront.net/trip-data/green_tripdata_2023-03.parquet\"\n",
    "]\n",
    "\n",
    "# download data to data subdirectory replace if exists\n",
    "for link in links:\n",
    "    ! wget -N -P data $link"
   ]
  }
 ],
 "metadata": {
  "kernelspec": {
   "display_name": "Python 3",
   "language": "python",
   "name": "python3"
  },
  "language_info": {
   "codemirror_mode": {
    "name": "ipython",
    "version": 3
   },
   "file_extension": ".py",
   "mimetype": "text/x-python",
   "name": "python",
   "nbconvert_exporter": "python",
   "pygments_lexer": "ipython3",
   "version": "3.9.19"
  }
 },
 "nbformat": 4,
 "nbformat_minor": 2
}
