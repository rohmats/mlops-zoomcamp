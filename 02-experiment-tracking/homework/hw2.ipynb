{
 "cells": [
  {
   "cell_type": "markdown",
   "metadata": {},
   "source": [
    "# Q1. Install MLflow"
   ]
  },
  {
   "cell_type": "code",
   "execution_count": 1,
   "metadata": {},
   "outputs": [
    {
     "name": "stdout",
     "output_type": "stream",
     "text": [
      "mlflow, version 2.13.0\n"
     ]
    }
   ],
   "source": [
    "# Q1\n",
    "! mlflow --version"
   ]
  },
  {
   "cell_type": "markdown",
   "metadata": {},
   "source": [
    "# Q2. Download and preprocess the data"
   ]
  },
  {
   "cell_type": "code",
   "execution_count": 2,
   "metadata": {},
   "outputs": [
    {
     "name": "stdout",
     "output_type": "stream",
     "text": [
      "--2024-05-24 14:31:04--  https://d37ci6vzurychx.cloudfront.net/trip-data/green_tripdata_2023-01.parquet\n",
      "Resolving d37ci6vzurychx.cloudfront.net (d37ci6vzurychx.cloudfront.net)... 52.85.39.97, 52.85.39.117, 52.85.39.65, ...\n",
      "Connecting to d37ci6vzurychx.cloudfront.net (d37ci6vzurychx.cloudfront.net)|52.85.39.97|:443... connected.\n",
      "HTTP request sent, awaiting response... 304 Not Modified\n",
      "File ‘data/green_tripdata_2023-01.parquet’ not modified on server. Omitting download.\n",
      "\n",
      "--2024-05-24 14:31:05--  https://d37ci6vzurychx.cloudfront.net/trip-data/green_tripdata_2023-02.parquet\n",
      "Resolving d37ci6vzurychx.cloudfront.net (d37ci6vzurychx.cloudfront.net)... 52.85.39.117, 52.85.39.97, 52.85.39.65, ...\n",
      "Connecting to d37ci6vzurychx.cloudfront.net (d37ci6vzurychx.cloudfront.net)|52.85.39.117|:443... connected.\n",
      "HTTP request sent, awaiting response... 304 Not Modified\n",
      "File ‘data/green_tripdata_2023-02.parquet’ not modified on server. Omitting download.\n",
      "\n",
      "--2024-05-24 14:31:06--  https://d37ci6vzurychx.cloudfront.net/trip-data/green_tripdata_2023-03.parquet\n",
      "Resolving d37ci6vzurychx.cloudfront.net (d37ci6vzurychx.cloudfront.net)... 52.85.39.153, 52.85.39.65, 52.85.39.97, ...\n",
      "Connecting to d37ci6vzurychx.cloudfront.net (d37ci6vzurychx.cloudfront.net)|52.85.39.153|:443... connected.\n",
      "HTTP request sent, awaiting response... 304 Not Modified\n",
      "File ‘data/green_tripdata_2023-03.parquet’ not modified on server. Omitting download.\n",
      "\n"
     ]
    }
   ],
   "source": [
    "links = [\n",
    "    \"https://d37ci6vzurychx.cloudfront.net/trip-data/green_tripdata_2023-01.parquet\",\n",
    "    \"https://d37ci6vzurychx.cloudfront.net/trip-data/green_tripdata_2023-02.parquet\",\n",
    "    \"https://d37ci6vzurychx.cloudfront.net/trip-data/green_tripdata_2023-03.parquet\"\n",
    "]\n",
    "\n",
    "# download data to data subdirectory replace if exists\n",
    "for link in links:\n",
    "    ! wget -N -P data $link"
   ]
  },
  {
   "cell_type": "code",
   "execution_count": 3,
   "metadata": {},
   "outputs": [
    {
     "name": "stdout",
     "output_type": "stream",
     "text": [
      "--2024-05-24 14:31:13--  https://raw.githubusercontent.com/DataTalksClub/mlops-zoomcamp/main/cohorts/2024/02-experiment-tracking/homework/preprocess_data.py\n",
      "Resolving raw.githubusercontent.com (raw.githubusercontent.com)... 185.199.108.133, 185.199.109.133, 185.199.110.133, ...\n",
      "Connecting to raw.githubusercontent.com (raw.githubusercontent.com)|185.199.108.133|:443... connected.\n",
      "HTTP request sent, awaiting response... 200 OK\n",
      "Length: 2510 (2.5K) [text/plain]\n",
      "Saving to: ‘preprocess_data.py’\n",
      "\n",
      "preprocess_data.py  100%[===================>]   2.45K  --.-KB/s    in 0s      \n",
      "\n",
      "Last-modified header missing -- time-stamps turned off.\n",
      "2024-05-24 14:31:13 (41.0 MB/s) - ‘preprocess_data.py’ saved [2510/2510]\n",
      "\n"
     ]
    }
   ],
   "source": [
    "# download preprocess_data.py\n",
    "! wget -N https://raw.githubusercontent.com/DataTalksClub/mlops-zoomcamp/main/cohorts/2024/02-experiment-tracking/homework/preprocess_data.py"
   ]
  },
  {
   "cell_type": "code",
   "execution_count": 5,
   "metadata": {},
   "outputs": [],
   "source": [
    "! python preprocess_data.py --raw_data_path data --dest_path ./output"
   ]
  },
  {
   "cell_type": "code",
   "execution_count": 7,
   "metadata": {},
   "outputs": [
    {
     "name": "stdout",
     "output_type": "stream",
     "text": [
      "Number of files in output directory: 4\n"
     ]
    }
   ],
   "source": [
    "# Q2\n",
    "# number of files in output directory\n",
    "import os\n",
    "output_dir = './output'\n",
    "num_files = len([name for name in os.listdir(output_dir) if os.path.isfile(os.path.join(output_dir, name))])\n",
    "print(f\"Number of files in output directory: {num_files}\")"
   ]
  },
  {
   "cell_type": "markdown",
   "metadata": {},
   "source": [
    "# Q3. Train a model with autolog"
   ]
  },
  {
   "cell_type": "code",
   "execution_count": 8,
   "metadata": {},
   "outputs": [],
   "source": [
    "# download train.py\n",
    "# ! wget -N https://raw.githubusercontent.com/DataTalksClub/mlops-zoomcamp/main/cohorts/2024/02-experiment-tracking/homework/train.py"
   ]
  },
  {
   "cell_type": "code",
   "execution_count": 9,
   "metadata": {},
   "outputs": [
    {
     "name": "stdout",
     "output_type": "stream",
     "text": [
      "2024/05/24 14:32:31 WARNING mlflow.utils.autologging_utils: You are using an unsupported version of sklearn. If you encounter errors during autologging, try upgrading / downgrading sklearn to a supported version, or try upgrading MLflow.\n",
      "2024/05/24 14:32:32 WARNING mlflow.sklearn: Failed to log training dataset information to MLflow Tracking. Reason: 'numpy.ndarray' object has no attribute 'toarray'\n",
      "2024/05/24 14:32:46 WARNING mlflow.utils.autologging_utils: MLflow autologging encountered a warning: \"/opt/conda/envs/hw2-env/lib/python3.9/site-packages/_distutils_hack/__init__.py:26: UserWarning: Setuptools is replacing distutils.\"\n"
     ]
    }
   ],
   "source": [
    "# run modified train.py\n",
    "! python train.py"
   ]
  },
  {
   "cell_type": "code",
   "execution_count": 10,
   "metadata": {},
   "outputs": [
    {
     "name": "stdout",
     "output_type": "stream",
     "text": [
      "min_samples_split: 2\n"
     ]
    }
   ],
   "source": [
    "# Q3\n",
    "# get min_samples_split from last run\n",
    "import mlflow\n",
    "import pandas as pd\n",
    "\n",
    "# Get last run\n",
    "experiments = mlflow.search_runs()\n",
    "last_run = experiments[experiments['status'] == 'FINISHED'].sort_values(by='end_time', ascending=False).head(1)\n",
    "\n",
    "# Get run_id\n",
    "run_id = last_run['run_id'].values[0]\n",
    "\n",
    "# Get run\n",
    "run = mlflow.get_run(run_id)\n",
    "\n",
    "# Get run data\n",
    "data = run.data\n",
    "\n",
    "# Get params\n",
    "params = data.params\n",
    "\n",
    "# Get min_samples_split\n",
    "min_samples_split = params['min_samples_split']\n",
    "print(f\"min_samples_split: {min_samples_split}\")"
   ]
  },
  {
   "cell_type": "markdown",
   "metadata": {},
   "source": [
    "# Q4. Launch the tracking server locally"
   ]
  },
  {
   "cell_type": "markdown",
   "metadata": {},
   "source": [
    "Launch mlflow locally select a `hw2.sqlite` db for the backend store and\n",
    "a folder called `artifacts` for the artifacts store\n",
    "```bash\n",
    "mlflow ui --backend-store-uri sqlite:///hw2.sqlite --artifacts-destination ./artifacts\n",
    "```\n",
    "References:\n",
    "https://stackoverflow.com/questions/75057477/mlflow-server-difference-between-default-artifact-root-and-artifacts\n",
    "https://mlflow.org/docs/latest/cli.html#mlflow-artifacts"
   ]
  },
  {
   "cell_type": "code",
   "execution_count": 11,
   "metadata": {},
   "outputs": [],
   "source": [
    "# ! mlflow ui --backend-store-uri sqlite:///hw2.sqlite --artifacts-destination ./artifacts"
   ]
  },
  {
   "cell_type": "code",
   "execution_count": 12,
   "metadata": {},
   "outputs": [],
   "source": [
    "# Q4 answer: artifacts-destination"
   ]
  },
  {
   "cell_type": "markdown",
   "metadata": {},
   "source": [
    "# Q5. Tune model hyperparameters"
   ]
  },
  {
   "cell_type": "code",
   "execution_count": 13,
   "metadata": {},
   "outputs": [],
   "source": [
    "# download hpo.py\n",
    "# ! wget -N https://raw.githubusercontent.com/DataTalksClub/mlops-zoomcamp/main/cohorts/2024/02-experiment-tracking/homework/hpo.py"
   ]
  },
  {
   "cell_type": "code",
   "execution_count": 20,
   "metadata": {},
   "outputs": [
    {
     "name": "stdout",
     "output_type": "stream",
     "text": [
      "100%|██████████| 15/15 [01:00<00:00,  4.02s/trial, best loss: 5.335419588556921]\n"
     ]
    }
   ],
   "source": [
    "# Q5\n",
    "! python hpo.py"
   ]
  },
  {
   "cell_type": "markdown",
   "metadata": {},
   "source": [
    "# Q6. Promote the best model to the model registry"
   ]
  },
  {
   "cell_type": "code",
   "execution_count": 21,
   "metadata": {},
   "outputs": [],
   "source": [
    "# download register_model.py\n",
    "# ! wget -N https://raw.githubusercontent.com/DataTalksClub/mlops-zoomcamp/main/cohorts/2024/02-experiment-tracking/homework/register_model.py"
   ]
  },
  {
   "cell_type": "code",
   "execution_count": 25,
   "metadata": {},
   "outputs": [
    {
     "name": "stdout",
     "output_type": "stream",
     "text": [
      "2024/05/24 14:44:30 INFO mlflow.tracking.fluent: Experiment with name 'random-forest-best-model' does not exist. Creating a new experiment.\n",
      "urllib3.exceptions.ResponseError: too many 503 error responses\n",
      "\n",
      "The above exception was the direct cause of the following exception:\n",
      "\n",
      "Traceback (most recent call last):\n",
      "  File \"/opt/conda/envs/hw2-env/lib/python3.9/site-packages/requests/adapters.py\", line 589, in send\n",
      "    resp = conn.urlopen(\n",
      "  File \"/opt/conda/envs/hw2-env/lib/python3.9/site-packages/urllib3/connectionpool.py\", line 948, in urlopen\n",
      "    return self.urlopen(\n",
      "  File \"/opt/conda/envs/hw2-env/lib/python3.9/site-packages/urllib3/connectionpool.py\", line 948, in urlopen\n",
      "    return self.urlopen(\n",
      "  File \"/opt/conda/envs/hw2-env/lib/python3.9/site-packages/urllib3/connectionpool.py\", line 948, in urlopen\n",
      "    return self.urlopen(\n",
      "  [Previous line repeated 2 more times]\n",
      "  File \"/opt/conda/envs/hw2-env/lib/python3.9/site-packages/urllib3/connectionpool.py\", line 938, in urlopen\n",
      "    retries = retries.increment(method, url, response=response, _pool=self)\n",
      "  File \"/opt/conda/envs/hw2-env/lib/python3.9/site-packages/urllib3/util/retry.py\", line 515, in increment\n",
      "    raise MaxRetryError(_pool, url, reason) from reason  # type: ignore[arg-type]\n",
      "urllib3.exceptions.MaxRetryError: HTTPConnectionPool(host='127.0.0.1', port=5000): Max retries exceeded with url: /api/2.0/mlflow/experiments/create (Caused by ResponseError('too many 503 error responses'))\n",
      "\n",
      "During handling of the above exception, another exception occurred:\n",
      "\n",
      "Traceback (most recent call last):\n",
      "  File \"/opt/conda/envs/hw2-env/lib/python3.9/site-packages/mlflow/utils/rest_utils.py\", line 129, in http_request\n",
      "    return _get_http_response_with_retries(\n",
      "  File \"/opt/conda/envs/hw2-env/lib/python3.9/site-packages/mlflow/utils/request_utils.py\", line 228, in _get_http_response_with_retries\n",
      "    return session.request(method, url, allow_redirects=allow_redirects, **kwargs)\n",
      "  File \"/opt/conda/envs/hw2-env/lib/python3.9/site-packages/requests/sessions.py\", line 589, in request\n",
      "    resp = self.send(prep, **send_kwargs)\n",
      "  File \"/opt/conda/envs/hw2-env/lib/python3.9/site-packages/requests/sessions.py\", line 703, in send\n",
      "    r = adapter.send(request, **kwargs)\n",
      "  File \"/opt/conda/envs/hw2-env/lib/python3.9/site-packages/requests/adapters.py\", line 613, in send\n",
      "    raise RetryError(e, request=request)\n",
      "requests.exceptions.RetryError: HTTPConnectionPool(host='127.0.0.1', port=5000): Max retries exceeded with url: /api/2.0/mlflow/experiments/create (Caused by ResponseError('too many 503 error responses'))\n",
      "\n",
      "During handling of the above exception, another exception occurred:\n",
      "\n",
      "Traceback (most recent call last):\n",
      "  File \"/workspaces/mlops-zoomcamp/02-experiment-tracking/homework/register_model.py\", line 18, in <module>\n",
      "    mlflow.set_experiment(EXPERIMENT_NAME)\n",
      "  File \"/opt/conda/envs/hw2-env/lib/python3.9/site-packages/mlflow/tracking/fluent.py\", line 152, in set_experiment\n",
      "    experiment_id = client.create_experiment(experiment_name)\n",
      "  File \"/opt/conda/envs/hw2-env/lib/python3.9/site-packages/mlflow/tracking/client.py\", line 1258, in create_experiment\n",
      "    return self._tracking_client.create_experiment(name, artifact_location, tags)\n",
      "  File \"/opt/conda/envs/hw2-env/lib/python3.9/site-packages/mlflow/tracking/_tracking_service/client.py\", line 499, in create_experiment\n",
      "    return self.store.create_experiment(\n",
      "  File \"/opt/conda/envs/hw2-env/lib/python3.9/site-packages/mlflow/store/tracking/rest_store.py\", line 122, in create_experiment\n",
      "    response_proto = self._call_endpoint(CreateExperiment, req_body)\n",
      "  File \"/opt/conda/envs/hw2-env/lib/python3.9/site-packages/mlflow/store/tracking/rest_store.py\", line 81, in _call_endpoint\n",
      "    return call_endpoint(self.get_host_creds(), endpoint, method, json_body, response_proto)\n",
      "  File \"/opt/conda/envs/hw2-env/lib/python3.9/site-packages/mlflow/utils/rest_utils.py\", line 302, in call_endpoint\n",
      "    response = http_request(**call_kwargs)\n",
      "  File \"/opt/conda/envs/hw2-env/lib/python3.9/site-packages/mlflow/utils/rest_utils.py\", line 152, in http_request\n",
      "    raise MlflowException(f\"API request to {url} failed with exception {e}\")\n",
      "mlflow.exceptions.MlflowException: API request to http://127.0.0.1:5000/api/2.0/mlflow/experiments/create failed with exception HTTPConnectionPool(host='127.0.0.1', port=5000): Max retries exceeded with url: /api/2.0/mlflow/experiments/create (Caused by ResponseError('too many 503 error responses'))\n"
     ]
    }
   ],
   "source": [
    "# Q6\n",
    "! python register_model.py"
   ]
  }
 ],
 "metadata": {
  "kernelspec": {
   "display_name": "Python 3",
   "language": "python",
   "name": "python3"
  },
  "language_info": {
   "codemirror_mode": {
    "name": "ipython",
    "version": 3
   },
   "file_extension": ".py",
   "mimetype": "text/x-python",
   "name": "python",
   "nbconvert_exporter": "python",
   "pygments_lexer": "ipython3",
   "version": "3.9.19"
  }
 },
 "nbformat": 4,
 "nbformat_minor": 2
}
