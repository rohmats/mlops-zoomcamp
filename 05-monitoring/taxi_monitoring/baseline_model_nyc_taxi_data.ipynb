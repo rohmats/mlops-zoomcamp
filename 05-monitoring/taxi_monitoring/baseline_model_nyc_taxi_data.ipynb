{
 "cells": [
  {
   "cell_type": "markdown",
   "id": "7bf05e7e",
   "metadata": {},
   "source": [
    "# Baseline model for batch monitoring example"
   ]
  },
  {
   "cell_type": "code",
   "execution_count": 1,
   "id": "7320039b",
   "metadata": {},
   "outputs": [],
   "source": [
    "import requests\n",
    "import datetime\n",
    "import pandas as pd\n",
    "\n",
    "from evidently import ColumnMapping\n",
    "from evidently.report import Report\n",
    "from evidently.metrics import ColumnDriftMetric, DatasetDriftMetric, DatasetMissingValuesMetric\n",
    "\n",
    "from joblib import load, dump\n",
    "from tqdm import tqdm\n",
    "\n",
    "from sklearn.linear_model import LinearRegression\n",
    "from sklearn.metrics import mean_absolute_error, mean_absolute_percentage_error"
   ]
  },
  {
   "cell_type": "code",
   "execution_count": 3,
   "id": "ebcd8eb5",
   "metadata": {},
   "outputs": [
    {
     "name": "stdout",
     "output_type": "stream",
     "text": [
      "Download files:\n"
     ]
    },
    {
     "name": "stderr",
     "output_type": "stream",
     "text": [
      "green_tripdata_2022-02.parquet: 100%|██████████| 1428262/1428262 [00:06<00:00, 221130.04it/s, save to ./data/green_tripdata_2022-02.parquet]\n",
      "green_tripdata_2022-01.parquet: 100%|██████████| 1254291/1254291 [00:05<00:00, 219895.40it/s, save to ./data/green_tripdata_2022-01.parquet]\n"
     ]
    }
   ],
   "source": [
    "files = [('green_tripdata_2022-02.parquet', './data'), ('green_tripdata_2022-01.parquet', './data')]\n",
    "\n",
    "print(\"Download files:\")\n",
    "for file, path in files:\n",
    "    url=f\"https://d37ci6vzurychx.cloudfront.net/trip-data/{file}\"\n",
    "    resp=requests.get(url, stream=True)\n",
    "    save_path=f\"{path}/{file}\"\n",
    "    with open(save_path, \"wb\") as handle:\n",
    "        for data in tqdm(resp.iter_content(),\n",
    "                        desc=f\"{file}\",\n",
    "                        postfix=f\"save to {save_path}\",\n",
    "                        total=int(resp.headers[\"Content-Length\"])):\n",
    "            handle.write(data)"
   ]
  },
  {
   "cell_type": "code",
   "execution_count": 4,
   "id": "6735ae38",
   "metadata": {},
   "outputs": [],
   "source": [
    "jan_data = pd.read_parquet('data/green_tripdata_2022-01.parquet')"
   ]
  },
  {
   "cell_type": "code",
   "execution_count": 5,
   "id": "29779686",
   "metadata": {},
   "outputs": [
    {
     "data": {
      "text/html": [
       "<div>\n",
       "<style scoped>\n",
       "    .dataframe tbody tr th:only-of-type {\n",
       "        vertical-align: middle;\n",
       "    }\n",
       "\n",
       "    .dataframe tbody tr th {\n",
       "        vertical-align: top;\n",
       "    }\n",
       "\n",
       "    .dataframe thead th {\n",
       "        text-align: right;\n",
       "    }\n",
       "</style>\n",
       "<table border=\"1\" class=\"dataframe\">\n",
       "  <thead>\n",
       "    <tr style=\"text-align: right;\">\n",
       "      <th></th>\n",
       "      <th>VendorID</th>\n",
       "      <th>lpep_pickup_datetime</th>\n",
       "      <th>lpep_dropoff_datetime</th>\n",
       "      <th>RatecodeID</th>\n",
       "      <th>PULocationID</th>\n",
       "      <th>DOLocationID</th>\n",
       "      <th>passenger_count</th>\n",
       "      <th>trip_distance</th>\n",
       "      <th>fare_amount</th>\n",
       "      <th>extra</th>\n",
       "      <th>mta_tax</th>\n",
       "      <th>tip_amount</th>\n",
       "      <th>tolls_amount</th>\n",
       "      <th>improvement_surcharge</th>\n",
       "      <th>total_amount</th>\n",
       "      <th>payment_type</th>\n",
       "      <th>trip_type</th>\n",
       "      <th>congestion_surcharge</th>\n",
       "    </tr>\n",
       "  </thead>\n",
       "  <tbody>\n",
       "    <tr>\n",
       "      <th>count</th>\n",
       "      <td>62495.000000</td>\n",
       "      <td>62495</td>\n",
       "      <td>62495</td>\n",
       "      <td>56200.000000</td>\n",
       "      <td>62495.000000</td>\n",
       "      <td>62495.000000</td>\n",
       "      <td>56200.000000</td>\n",
       "      <td>62495.000000</td>\n",
       "      <td>62495.000000</td>\n",
       "      <td>62495.00000</td>\n",
       "      <td>62495.000000</td>\n",
       "      <td>62495.000000</td>\n",
       "      <td>62495.000000</td>\n",
       "      <td>62495.000000</td>\n",
       "      <td>62495.000000</td>\n",
       "      <td>56200.000000</td>\n",
       "      <td>56200.000000</td>\n",
       "      <td>56200.000000</td>\n",
       "    </tr>\n",
       "    <tr>\n",
       "      <th>mean</th>\n",
       "      <td>1.849508</td>\n",
       "      <td>2022-01-16 14:18:36.026354</td>\n",
       "      <td>2022-01-16 14:37:37.189551</td>\n",
       "      <td>1.198719</td>\n",
       "      <td>97.615041</td>\n",
       "      <td>135.969902</td>\n",
       "      <td>1.258399</td>\n",
       "      <td>77.758632</td>\n",
       "      <td>13.914000</td>\n",
       "      <td>0.34756</td>\n",
       "      <td>0.426322</td>\n",
       "      <td>1.666540</td>\n",
       "      <td>0.208182</td>\n",
       "      <td>0.297312</td>\n",
       "      <td>17.490532</td>\n",
       "      <td>1.403594</td>\n",
       "      <td>1.040925</td>\n",
       "      <td>0.706628</td>\n",
       "    </tr>\n",
       "    <tr>\n",
       "      <th>min</th>\n",
       "      <td>1.000000</td>\n",
       "      <td>2009-01-01 00:34:01</td>\n",
       "      <td>2009-01-01 17:05:20</td>\n",
       "      <td>1.000000</td>\n",
       "      <td>1.000000</td>\n",
       "      <td>1.000000</td>\n",
       "      <td>0.000000</td>\n",
       "      <td>0.000000</td>\n",
       "      <td>-65.000000</td>\n",
       "      <td>-4.50000</td>\n",
       "      <td>-0.500000</td>\n",
       "      <td>-0.860000</td>\n",
       "      <td>-6.550000</td>\n",
       "      <td>-0.300000</td>\n",
       "      <td>-71.850000</td>\n",
       "      <td>1.000000</td>\n",
       "      <td>1.000000</td>\n",
       "      <td>0.000000</td>\n",
       "    </tr>\n",
       "    <tr>\n",
       "      <th>25%</th>\n",
       "      <td>2.000000</td>\n",
       "      <td>2022-01-08 23:41:50</td>\n",
       "      <td>2022-01-08 23:55:28.500000</td>\n",
       "      <td>1.000000</td>\n",
       "      <td>55.000000</td>\n",
       "      <td>74.000000</td>\n",
       "      <td>1.000000</td>\n",
       "      <td>1.080000</td>\n",
       "      <td>7.000000</td>\n",
       "      <td>0.00000</td>\n",
       "      <td>0.500000</td>\n",
       "      <td>0.000000</td>\n",
       "      <td>0.000000</td>\n",
       "      <td>0.300000</td>\n",
       "      <td>9.360000</td>\n",
       "      <td>1.000000</td>\n",
       "      <td>1.000000</td>\n",
       "      <td>0.000000</td>\n",
       "    </tr>\n",
       "    <tr>\n",
       "      <th>50%</th>\n",
       "      <td>2.000000</td>\n",
       "      <td>2022-01-16 15:59:42</td>\n",
       "      <td>2022-01-16 16:17:00</td>\n",
       "      <td>1.000000</td>\n",
       "      <td>75.000000</td>\n",
       "      <td>137.000000</td>\n",
       "      <td>1.000000</td>\n",
       "      <td>1.900000</td>\n",
       "      <td>10.500000</td>\n",
       "      <td>0.00000</td>\n",
       "      <td>0.500000</td>\n",
       "      <td>1.000000</td>\n",
       "      <td>0.000000</td>\n",
       "      <td>0.300000</td>\n",
       "      <td>13.860000</td>\n",
       "      <td>1.000000</td>\n",
       "      <td>1.000000</td>\n",
       "      <td>0.000000</td>\n",
       "    </tr>\n",
       "    <tr>\n",
       "      <th>75%</th>\n",
       "      <td>2.000000</td>\n",
       "      <td>2022-01-24 09:16:50</td>\n",
       "      <td>2022-01-24 09:37:28</td>\n",
       "      <td>1.000000</td>\n",
       "      <td>130.000000</td>\n",
       "      <td>215.000000</td>\n",
       "      <td>1.000000</td>\n",
       "      <td>3.500000</td>\n",
       "      <td>17.000000</td>\n",
       "      <td>0.50000</td>\n",
       "      <td>0.500000</td>\n",
       "      <td>2.610000</td>\n",
       "      <td>0.000000</td>\n",
       "      <td>0.300000</td>\n",
       "      <td>21.050000</td>\n",
       "      <td>2.000000</td>\n",
       "      <td>1.000000</td>\n",
       "      <td>2.750000</td>\n",
       "    </tr>\n",
       "    <tr>\n",
       "      <th>max</th>\n",
       "      <td>2.000000</td>\n",
       "      <td>2022-01-31 23:57:37</td>\n",
       "      <td>2022-02-01 21:01:54</td>\n",
       "      <td>5.000000</td>\n",
       "      <td>265.000000</td>\n",
       "      <td>265.000000</td>\n",
       "      <td>8.000000</td>\n",
       "      <td>224481.380000</td>\n",
       "      <td>604.500000</td>\n",
       "      <td>4.50000</td>\n",
       "      <td>0.500000</td>\n",
       "      <td>76.770000</td>\n",
       "      <td>44.750000</td>\n",
       "      <td>0.300000</td>\n",
       "      <td>605.300000</td>\n",
       "      <td>5.000000</td>\n",
       "      <td>2.000000</td>\n",
       "      <td>2.750000</td>\n",
       "    </tr>\n",
       "    <tr>\n",
       "      <th>std</th>\n",
       "      <td>0.357556</td>\n",
       "      <td>NaN</td>\n",
       "      <td>NaN</td>\n",
       "      <td>0.862313</td>\n",
       "      <td>62.987311</td>\n",
       "      <td>77.590956</td>\n",
       "      <td>0.877743</td>\n",
       "      <td>2909.354163</td>\n",
       "      <td>12.088819</td>\n",
       "      <td>0.65781</td>\n",
       "      <td>0.181381</td>\n",
       "      <td>2.484928</td>\n",
       "      <td>1.257659</td>\n",
       "      <td>0.037201</td>\n",
       "      <td>13.623416</td>\n",
       "      <td>0.516316</td>\n",
       "      <td>0.198119</td>\n",
       "      <td>1.201632</td>\n",
       "    </tr>\n",
       "  </tbody>\n",
       "</table>\n",
       "</div>"
      ],
      "text/plain": [
       "           VendorID        lpep_pickup_datetime       lpep_dropoff_datetime  \\\n",
       "count  62495.000000                       62495                       62495   \n",
       "mean       1.849508  2022-01-16 14:18:36.026354  2022-01-16 14:37:37.189551   \n",
       "min        1.000000         2009-01-01 00:34:01         2009-01-01 17:05:20   \n",
       "25%        2.000000         2022-01-08 23:41:50  2022-01-08 23:55:28.500000   \n",
       "50%        2.000000         2022-01-16 15:59:42         2022-01-16 16:17:00   \n",
       "75%        2.000000         2022-01-24 09:16:50         2022-01-24 09:37:28   \n",
       "max        2.000000         2022-01-31 23:57:37         2022-02-01 21:01:54   \n",
       "std        0.357556                         NaN                         NaN   \n",
       "\n",
       "         RatecodeID  PULocationID  DOLocationID  passenger_count  \\\n",
       "count  56200.000000  62495.000000  62495.000000     56200.000000   \n",
       "mean       1.198719     97.615041    135.969902         1.258399   \n",
       "min        1.000000      1.000000      1.000000         0.000000   \n",
       "25%        1.000000     55.000000     74.000000         1.000000   \n",
       "50%        1.000000     75.000000    137.000000         1.000000   \n",
       "75%        1.000000    130.000000    215.000000         1.000000   \n",
       "max        5.000000    265.000000    265.000000         8.000000   \n",
       "std        0.862313     62.987311     77.590956         0.877743   \n",
       "\n",
       "       trip_distance   fare_amount        extra       mta_tax    tip_amount  \\\n",
       "count   62495.000000  62495.000000  62495.00000  62495.000000  62495.000000   \n",
       "mean       77.758632     13.914000      0.34756      0.426322      1.666540   \n",
       "min         0.000000    -65.000000     -4.50000     -0.500000     -0.860000   \n",
       "25%         1.080000      7.000000      0.00000      0.500000      0.000000   \n",
       "50%         1.900000     10.500000      0.00000      0.500000      1.000000   \n",
       "75%         3.500000     17.000000      0.50000      0.500000      2.610000   \n",
       "max    224481.380000    604.500000      4.50000      0.500000     76.770000   \n",
       "std      2909.354163     12.088819      0.65781      0.181381      2.484928   \n",
       "\n",
       "       tolls_amount  improvement_surcharge  total_amount  payment_type  \\\n",
       "count  62495.000000           62495.000000  62495.000000  56200.000000   \n",
       "mean       0.208182               0.297312     17.490532      1.403594   \n",
       "min       -6.550000              -0.300000    -71.850000      1.000000   \n",
       "25%        0.000000               0.300000      9.360000      1.000000   \n",
       "50%        0.000000               0.300000     13.860000      1.000000   \n",
       "75%        0.000000               0.300000     21.050000      2.000000   \n",
       "max       44.750000               0.300000    605.300000      5.000000   \n",
       "std        1.257659               0.037201     13.623416      0.516316   \n",
       "\n",
       "          trip_type  congestion_surcharge  \n",
       "count  56200.000000          56200.000000  \n",
       "mean       1.040925              0.706628  \n",
       "min        1.000000              0.000000  \n",
       "25%        1.000000              0.000000  \n",
       "50%        1.000000              0.000000  \n",
       "75%        1.000000              2.750000  \n",
       "max        2.000000              2.750000  \n",
       "std        0.198119              1.201632  "
      ]
     },
     "execution_count": 5,
     "metadata": {},
     "output_type": "execute_result"
    }
   ],
   "source": [
    "jan_data.describe()"
   ]
  },
  {
   "cell_type": "code",
   "execution_count": 6,
   "id": "b44c37b2",
   "metadata": {},
   "outputs": [
    {
     "data": {
      "text/plain": [
       "(62495, 20)"
      ]
     },
     "execution_count": 6,
     "metadata": {},
     "output_type": "execute_result"
    }
   ],
   "source": [
    "jan_data.shape"
   ]
  },
  {
   "cell_type": "code",
   "execution_count": 7,
   "id": "f2934d16",
   "metadata": {},
   "outputs": [],
   "source": [
    "# create target\n",
    "jan_data[\"duration_min\"] = jan_data.lpep_dropoff_datetime - jan_data.lpep_pickup_datetime\n",
    "jan_data.duration_min = jan_data.duration_min.apply(lambda td : float(td.total_seconds())/60)"
   ]
  },
  {
   "cell_type": "code",
   "execution_count": 8,
   "id": "63210877",
   "metadata": {},
   "outputs": [],
   "source": [
    "# filter out outliers\n",
    "jan_data = jan_data[(jan_data.duration_min >= 0) & (jan_data.duration_min <= 60)]\n",
    "jan_data = jan_data[(jan_data.passenger_count > 0) & (jan_data.passenger_count <= 8)]"
   ]
  },
  {
   "cell_type": "code",
   "execution_count": 9,
   "id": "56b31a22",
   "metadata": {},
   "outputs": [
    {
     "data": {
      "text/plain": [
       "<Axes: >"
      ]
     },
     "execution_count": 9,
     "metadata": {},
     "output_type": "execute_result"
    },
    {
     "data": {
      "image/png": "[encoded data removed]",
      "text/plain": [
       "<Figure size 640x480 with 1 Axes>"
      ]
     },
     "metadata": {},
     "output_type": "display_data"
    }
   ],
   "source": [
    "jan_data.duration_min.hist()"
   ]
  },
  {
   "cell_type": "code",
   "execution_count": null,
   "id": "e40dff98",
   "metadata": {},
   "outputs": [],
   "source": [
    "# data labeling\n",
    "target = \"duration_min\"\n",
    "num_features = [\"passenger_count\", \"trip_distance\", \"fare_amount\", \"total_amount\"]\n",
    "cat_features = [\"PULocationID\", \"DOLocationID\"]"
   ]
  },
  {
   "cell_type": "code",
   "execution_count": null,
   "id": "bc0c22a5",
   "metadata": {},
   "outputs": [],
   "source": [
    "jan_data.shape"
   ]
  },
  {
   "cell_type": "code",
   "execution_count": null,
   "id": "05a265a0",
   "metadata": {},
   "outputs": [],
   "source": [
    "train_data = jan_data[:30000]\n",
    "val_data = jan_data[30000:]"
   ]
  },
  {
   "cell_type": "code",
   "execution_count": null,
   "id": "e9fb4fc9",
   "metadata": {},
   "outputs": [],
   "source": [
    "model = LinearRegression()"
   ]
  },
  {
   "cell_type": "code",
   "execution_count": null,
   "id": "0baed5ae",
   "metadata": {},
   "outputs": [],
   "source": [
    "model.fit(train_data[num_features + cat_features], train_data[target])"
   ]
  },
  {
   "cell_type": "code",
   "execution_count": null,
   "id": "c1fa3c38",
   "metadata": {},
   "outputs": [],
   "source": [
    "train_preds = model.predict(train_data[num_features + cat_features])\n",
    "train_data['prediction'] = train_preds"
   ]
  },
  {
   "cell_type": "code",
   "execution_count": null,
   "id": "84293b52",
   "metadata": {},
   "outputs": [],
   "source": [
    "val_preds = model.predict(val_data[num_features + cat_features])\n",
    "val_data['prediction'] = val_preds"
   ]
  },
  {
   "cell_type": "code",
   "execution_count": null,
   "id": "0af9d288",
   "metadata": {},
   "outputs": [],
   "source": [
    "print(mean_absolute_error(train_data.duration_min, train_data.prediction))\n",
    "print(mean_absolute_error(val_data.duration_min, val_data.prediction))"
   ]
  },
  {
   "cell_type": "markdown",
   "id": "fc441899",
   "metadata": {},
   "source": [
    "# Dump model and reference data"
   ]
  },
  {
   "cell_type": "code",
   "execution_count": null,
   "id": "dfb4068b",
   "metadata": {},
   "outputs": [],
   "source": [
    "with open('models/lin_reg.bin', 'wb') as f_out:\n",
    "    dump(model, f_out)"
   ]
  },
  {
   "cell_type": "code",
   "execution_count": null,
   "id": "a1aa065f",
   "metadata": {},
   "outputs": [],
   "source": [
    "val_data.to_parquet('data/reference.parquet')"
   ]
  },
  {
   "cell_type": "markdown",
   "id": "a195b327",
   "metadata": {},
   "source": [
    "# Evidently Report"
   ]
  },
  {
   "cell_type": "code",
   "execution_count": null,
   "id": "56403137",
   "metadata": {},
   "outputs": [],
   "source": [
    "column_mapping = ColumnMapping(\n",
    "    target=None,\n",
    "    prediction='prediction',\n",
    "    numerical_features=num_features,\n",
    "    categorical_features=cat_features\n",
    ")"
   ]
  },
  {
   "cell_type": "code",
   "execution_count": null,
   "id": "36bf31c2",
   "metadata": {},
   "outputs": [],
   "source": [
    "report = Report(metrics=[\n",
    "    ColumnDriftMetric(column_name='prediction'),\n",
    "    DatasetDriftMetric(),\n",
    "    DatasetMissingValuesMetric()\n",
    "]\n",
    ")"
   ]
  },
  {
   "cell_type": "code",
   "execution_count": null,
   "id": "996eb8b8",
   "metadata": {},
   "outputs": [],
   "source": [
    "report.run(reference_data=train_data, current_data=val_data, column_mapping=column_mapping)"
   ]
  },
  {
   "cell_type": "code",
   "execution_count": null,
   "id": "3e7aaea2",
   "metadata": {},
   "outputs": [],
   "source": [
    "report.show(mode='inline')"
   ]
  },
  {
   "cell_type": "code",
   "execution_count": null,
   "id": "397adec5",
   "metadata": {},
   "outputs": [],
   "source": [
    "result = report.as_dict()"
   ]
  },
  {
   "cell_type": "code",
   "execution_count": null,
   "id": "84c99580",
   "metadata": {
    "scrolled": true
   },
   "outputs": [],
   "source": [
    "result"
   ]
  },
  {
   "cell_type": "code",
   "execution_count": null,
   "id": "7fa07745",
   "metadata": {},
   "outputs": [],
   "source": [
    "#prediction drift\n",
    "result['metrics'][0]['result']['drift_score']"
   ]
  },
  {
   "cell_type": "code",
   "execution_count": null,
   "id": "e1c8f836",
   "metadata": {},
   "outputs": [],
   "source": [
    "#number of drifted columns\n",
    "result['metrics'][1]['result']['number_of_drifted_columns']"
   ]
  },
  {
   "cell_type": "code",
   "execution_count": null,
   "id": "71c07269",
   "metadata": {},
   "outputs": [],
   "source": [
    "#share of missing values\n",
    "result['metrics'][2]['result']['current']['share_of_missing_values']"
   ]
  },
  {
   "cell_type": "markdown",
   "id": "b1806fc6-1810-4f2f-9a44-b692395e8d2a",
   "metadata": {},
   "source": [
    "# Evidently Dashboard"
   ]
  },
  {
   "cell_type": "code",
   "execution_count": null,
   "id": "a9329510-f377-437b-ba12-e8dc26b3d7b0",
   "metadata": {},
   "outputs": [],
   "source": [
    "from evidently.metric_preset import DataDriftPreset, DataQualityPreset\n",
    "\n",
    "from evidently.ui.workspace import Workspace\n",
    "from evidently.ui.dashboards import DashboardPanelCounter, DashboardPanelPlot, CounterAgg, PanelValue, PlotType, ReportFilter\n",
    "from evidently.renderers.html_widgets import WidgetSize"
   ]
  },
  {
   "cell_type": "code",
   "execution_count": null,
   "id": "a5465175-02bf-44d5-82ff-ef4baa1ac4e2",
   "metadata": {},
   "outputs": [],
   "source": [
    "ws = Workspace(\"workspace\")"
   ]
  },
  {
   "cell_type": "code",
   "execution_count": null,
   "id": "06718d7e-c81f-4b36-a6fa-5b446c6c5f92",
   "metadata": {},
   "outputs": [],
   "source": [
    "project = ws.create_project(\"NYC Taxi Data Quality Project\")\n",
    "project.description = \"My project descriotion\"\n",
    "project.save()"
   ]
  },
  {
   "cell_type": "code",
   "execution_count": null,
   "id": "cc58e3ea-560c-4b85-a6ef-3cdf76d33123",
   "metadata": {},
   "outputs": [],
   "source": [
    "regular_report = Report(\n",
    "    metrics=[\n",
    "        DataQualityPreset()\n",
    "    ],\n",
    "    timestamp=datetime.datetime(2022,1,28)\n",
    ")\n",
    "\n",
    "regular_report.run(reference_data=None,\n",
    "                  current_data=val_data.loc[val_data.lpep_pickup_datetime.between('2022-01-28', '2022-01-29', inclusive=\"left\")],\n",
    "                  column_mapping=column_mapping)\n",
    "\n",
    "regular_report"
   ]
  },
  {
   "cell_type": "code",
   "execution_count": null,
   "id": "c55cf5d6-7bbb-438f-9d56-bdc8318e70e2",
   "metadata": {},
   "outputs": [],
   "source": [
    "ws.add_report(project.id, regular_report)"
   ]
  },
  {
   "cell_type": "code",
   "execution_count": null,
   "id": "7938268f-f511-47f5-acfc-2c53522bcfa6",
   "metadata": {},
   "outputs": [],
   "source": [
    "#configure the dashboard\n",
    "project.dashboard.add_panel(\n",
    "    DashboardPanelCounter(\n",
    "        filter=ReportFilter(metadata_values={}, tag_values=[]),\n",
    "        agg=CounterAgg.NONE,\n",
    "        title=\"NYC taxi data dashboard\"\n",
    "    )\n",
    ")\n",
    "\n",
    "project.dashboard.add_panel(\n",
    "    DashboardPanelPlot(\n",
    "        filter=ReportFilter(metadata_values={}, tag_values=[]),\n",
    "        title=\"Inference Count\",\n",
    "        values=[\n",
    "            PanelValue(\n",
    "                metric_id=\"DatasetSummaryMetric\",\n",
    "                field_path=\"current.number_of_rows\",\n",
    "                legend=\"count\"\n",
    "            ),\n",
    "        ],\n",
    "        plot_type=PlotType.BAR,\n",
    "        size=WidgetSize.HALF,\n",
    "    ),\n",
    ")\n",
    "\n",
    "project.dashboard.add_panel(\n",
    "    DashboardPanelPlot(\n",
    "        filter=ReportFilter(metadata_values={}, tag_values=[]),\n",
    "        title=\"Number of Missing Values\",\n",
    "        values=[\n",
    "            PanelValue(\n",
    "                metric_id=\"DatasetSummaryMetric\",\n",
    "                field_path=\"current.number_of_missing_values\",\n",
    "                legend=\"count\"\n",
    "            ),\n",
    "        ],\n",
    "        plot_type=PlotType.LINE,\n",
    "        size=WidgetSize.HALF,\n",
    "    ),\n",
    ")\n",
    "\n",
    "project.save()"
   ]
  },
  {
   "cell_type": "code",
   "execution_count": null,
   "id": "f2193364-124a-4585-8859-86a82c858334",
   "metadata": {
    "scrolled": true
   },
   "outputs": [],
   "source": [
    "regular_report = Report(\n",
    "    metrics=[\n",
    "        DataQualityPreset()\n",
    "    ],\n",
    "    timestamp=datetime.datetime(2022,1,29)\n",
    ")\n",
    "\n",
    "regular_report.run(reference_data=None,\n",
    "                  current_data=val_data.loc[val_data.lpep_pickup_datetime.between('2022-01-29', '2022-01-30', inclusive=\"left\")],\n",
    "                  column_mapping=column_mapping)\n",
    "\n",
    "regular_report"
   ]
  },
  {
   "cell_type": "code",
   "execution_count": null,
   "id": "6999cf63-9c59-4420-8163-b8c1215f3ba7",
   "metadata": {},
   "outputs": [],
   "source": [
    "ws.add_report(project.id, regular_report)"
   ]
  },
  {
   "cell_type": "code",
   "execution_count": null,
   "id": "c7f04a09-6c54-4784-bd0a-c8b01f3d8ae8",
   "metadata": {},
   "outputs": [],
   "source": []
  }
 ],
 "metadata": {
  "kernelspec": {
   "display_name": "Python 3 (ipykernel)",
   "language": "python",
   "name": "python3"
  },
  "language_info": {
   "codemirror_mode": {
    "name": "ipython",
    "version": 3
   },
   "file_extension": ".py",
   "mimetype": "text/x-python",
   "name": "python",
   "nbconvert_exporter": "python",
   "pygments_lexer": "ipython3",
   "version": "3.11.9"
  }
 },
 "nbformat": 4,
 "nbformat_minor": 5
}
