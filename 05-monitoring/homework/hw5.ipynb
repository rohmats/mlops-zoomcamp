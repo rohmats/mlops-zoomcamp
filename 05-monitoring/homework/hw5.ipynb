{
 "cells": [
  {
   "cell_type": "markdown",
   "metadata": {},
   "source": [
    "# Environment Preparation\n",
    "Activate Pipenv\n",
    "```bash\n",
    "pipenv shell\n",
    "```"
   ]
  },
  {
   "cell_type": "markdown",
   "metadata": {},
   "source": [
    "# Q1. Prepare the dataset"
   ]
  },
  {
   "cell_type": "markdown",
   "metadata": {},
   "source": [
    "## Baseline Models\n",
    "Baseline models created using `baseline_model_nyc_taxi_data.ipynb` notebook. Model saved in `models/lin_reg.bin` and reference file saved in `data/reference.parquet`"
   ]
  },
  {
   "cell_type": "code",
   "execution_count": 5,
   "metadata": {},
   "outputs": [
    {
     "name": "stdout",
     "output_type": "stream",
     "text": [
      "The number of rows March 2024 Green Taxi data is 57457\n"
     ]
    }
   ],
   "source": [
    "import pandas as pd\n",
    "df=pd.read_parquet('data/green_tripdata_2024-03.parquet')\n",
    "print(f'The number of rows March 2024 Green Taxi data is {df.shape[0]}')"
   ]
  },
  {
   "cell_type": "markdown",
   "metadata": {},
   "source": [
    "# Q2. Metric"
   ]
  },
  {
   "cell_type": "markdown",
   "metadata": {},
   "source": [
    "Build docker container\n",
    "```bash\n",
    "docker compose up -d --build\n",
    "```"
   ]
  },
  {
   "cell_type": "code",
   "execution_count": 8,
   "metadata": {},
   "outputs": [
    {
     "name": "stdout",
     "output_type": "stream",
     "text": [
      "\u001b[33mWARN\u001b[0m[0000] /workspaces/mlops-zoomcamp/05-monitoring/homework/docker-compose.yml: `version` is obsolete \n",
      "\u001b[1A\u001b[1B\u001b[0G\u001b[?25l[+] Running 1/0\n",
      " \u001b[32m✔\u001b[0m Network homework_front-tier  \u001b[32mCreated\u001b[0m                                    \u001b[34m0.1s \u001b[0m\n",
      " \u001b[33m⠋\u001b[0m Network homework_back-tier   Creating                                   \u001b[34m0.0s \u001b[0m\n",
      "\u001b[?25h\u001b[1A\u001b[1A\u001b[1A\u001b[0G\u001b[?25l\u001b[34m[+] Running 2/2\u001b[0m\n",
      " \u001b[32m✔\u001b[0m Network homework_front-tier   \u001b[32mCreated\u001b[0m                                   \u001b[34m0.1s \u001b[0m\n",
      " \u001b[32m✔\u001b[0m Network homework_back-tier    \u001b[32mCreated\u001b[0m                                   \u001b[34m0.1s \u001b[0m\n",
      " \u001b[33m⠋\u001b[0m Container homework-grafana-1  Creatin...                                \u001b[34m0.0s \u001b[0m\n",
      " \u001b[33m⠋\u001b[0m Container homework-adminer-1  Creatin...                                \u001b[34m0.0s \u001b[0m\n",
      " \u001b[33m⠋\u001b[0m Container homework-db-1       Creating                                  \u001b[34m0.0s \u001b[0m\n",
      "\u001b[?25h\u001b[1A\u001b[1A\u001b[1A\u001b[1A\u001b[1A\u001b[1A\u001b[0G\u001b[?25l[+] Running 2/5\n",
      " \u001b[32m✔\u001b[0m Network homework_front-tier   \u001b[32mCreated\u001b[0m                                   \u001b[34m0.1s \u001b[0m\n",
      " \u001b[32m✔\u001b[0m Network homework_back-tier    \u001b[32mCreated\u001b[0m                                   \u001b[34m0.1s \u001b[0m\n",
      " \u001b[33m⠙\u001b[0m Container homework-grafana-1  Creatin...                                \u001b[34m0.1s \u001b[0m\n",
      " \u001b[33m⠙\u001b[0m Container homework-adminer-1  Creatin...                                \u001b[34m0.1s \u001b[0m\n",
      " \u001b[33m⠙\u001b[0m Container homework-db-1       Creating                                  \u001b[34m0.1s \u001b[0m\n",
      "\u001b[?25h\u001b[1A\u001b[1A\u001b[1A\u001b[1A\u001b[1A\u001b[1A\u001b[0G\u001b[?25l[+] Running 4/5\n",
      " \u001b[32m✔\u001b[0m Network homework_front-tier   \u001b[32mCreated\u001b[0m                                   \u001b[34m0.1s \u001b[0m\n",
      " \u001b[32m✔\u001b[0m Network homework_back-tier    \u001b[32mCreated\u001b[0m                                   \u001b[34m0.1s \u001b[0m\n",
      " \u001b[32m✔\u001b[0m Container homework-grafana-1  \u001b[32mCreated\u001b[0m                                   \u001b[34m0.2s \u001b[0m\n",
      " \u001b[32m✔\u001b[0m Container homework-adminer-1  \u001b[32mCreated\u001b[0m                                   \u001b[34m0.2s \u001b[0m\n",
      " \u001b[33m⠹\u001b[0m Container homework-db-1       Creating                                  \u001b[34m0.2s \u001b[0m\n",
      "\u001b[?25h\u001b[1A\u001b[1A\u001b[1A\u001b[1A\u001b[1A\u001b[1A\u001b[0G\u001b[?25l[+] Running 2/5\n",
      " \u001b[32m✔\u001b[0m Network homework_front-tier   \u001b[32mCreated\u001b[0m                                   \u001b[34m0.1s \u001b[0m\n",
      " \u001b[32m✔\u001b[0m Network homework_back-tier    \u001b[32mCreated\u001b[0m                                   \u001b[34m0.1s \u001b[0m\n",
      " \u001b[33m⠹\u001b[0m Container homework-grafana-1  Startin...                                \u001b[34m0.3s \u001b[0m\n",
      " \u001b[33m⠹\u001b[0m Container homework-adminer-1  Startin...                                \u001b[34m0.3s \u001b[0m\n",
      " \u001b[33m⠸\u001b[0m Container homework-db-1       Starting                                  \u001b[34m0.3s \u001b[0m\n",
      "\u001b[?25h\u001b[1A\u001b[1A\u001b[1A\u001b[1A\u001b[1A\u001b[1A\u001b[0G\u001b[?25l[+] Running 2/5\n",
      " \u001b[32m✔\u001b[0m Network homework_front-tier   \u001b[32mCreated\u001b[0m                                   \u001b[34m0.1s \u001b[0m\n",
      " \u001b[32m✔\u001b[0m Network homework_back-tier    \u001b[32mCreated\u001b[0m                                   \u001b[34m0.1s \u001b[0m\n",
      " \u001b[33m⠸\u001b[0m Container homework-grafana-1  Startin...                                \u001b[34m0.4s \u001b[0m\n",
      " \u001b[33m⠸\u001b[0m Container homework-adminer-1  Startin...                                \u001b[34m0.4s \u001b[0m\n",
      " \u001b[33m⠼\u001b[0m Container homework-db-1       Starting                                  \u001b[34m0.4s \u001b[0m\n",
      "\u001b[?25h\u001b[1A\u001b[1A\u001b[1A\u001b[1A\u001b[1A\u001b[1A\u001b[0G\u001b[?25l[+] Running 2/5\n",
      " \u001b[32m✔\u001b[0m Network homework_front-tier   \u001b[32mCreated\u001b[0m                                   \u001b[34m0.1s \u001b[0m\n",
      " \u001b[32m✔\u001b[0m Network homework_back-tier    \u001b[32mCreated\u001b[0m                                   \u001b[34m0.1s \u001b[0m\n",
      " \u001b[33m⠼\u001b[0m Container homework-grafana-1  Startin...                                \u001b[34m0.5s \u001b[0m\n",
      " \u001b[33m⠼\u001b[0m Container homework-adminer-1  Startin...                                \u001b[34m0.5s \u001b[0m\n",
      " \u001b[33m⠴\u001b[0m Container homework-db-1       Starting                                  \u001b[34m0.5s \u001b[0m\n",
      "\u001b[?25h\u001b[1A\u001b[1A\u001b[1A\u001b[1A\u001b[1A\u001b[1A\u001b[0G\u001b[?25l[+] Running 2/5\n",
      " \u001b[32m✔\u001b[0m Network homework_front-tier   \u001b[32mCreated\u001b[0m                                   \u001b[34m0.1s \u001b[0m\n",
      " \u001b[32m✔\u001b[0m Network homework_back-tier    \u001b[32mCreated\u001b[0m                                   \u001b[34m0.1s \u001b[0m\n",
      " \u001b[33m⠴\u001b[0m Container homework-grafana-1  Startin...                                \u001b[34m0.6s \u001b[0m\n",
      " \u001b[33m⠴\u001b[0m Container homework-adminer-1  Startin...                                \u001b[34m0.6s \u001b[0m\n",
      " \u001b[33m⠦\u001b[0m Container homework-db-1       Starting                                  \u001b[34m0.6s \u001b[0m\n",
      "\u001b[?25h\u001b[1A\u001b[1A\u001b[1A\u001b[1A\u001b[1A\u001b[1A\u001b[0G\u001b[?25l[+] Running 2/5\n",
      " \u001b[32m✔\u001b[0m Network homework_front-tier   \u001b[32mCreated\u001b[0m                                   \u001b[34m0.1s \u001b[0m\n",
      " \u001b[32m✔\u001b[0m Network homework_back-tier    \u001b[32mCreated\u001b[0m                                   \u001b[34m0.1s \u001b[0m\n",
      " \u001b[33m⠦\u001b[0m Container homework-grafana-1  Startin...                                \u001b[34m0.7s \u001b[0m\n",
      " \u001b[33m⠦\u001b[0m Container homework-adminer-1  Startin...                                \u001b[34m0.7s \u001b[0m\n",
      " \u001b[33m⠧\u001b[0m Container homework-db-1       Starting                                  \u001b[34m0.7s \u001b[0m\n",
      "\u001b[?25h\u001b[1A\u001b[1A\u001b[1A\u001b[1A\u001b[1A\u001b[1A\u001b[0G\u001b[?25l[+] Running 3/5\n",
      " \u001b[32m✔\u001b[0m Network homework_front-tier   \u001b[32mCreated\u001b[0m                                   \u001b[34m0.1s \u001b[0m\n",
      " \u001b[32m✔\u001b[0m Network homework_back-tier    \u001b[32mCreated\u001b[0m                                   \u001b[34m0.1s \u001b[0m\n",
      " \u001b[33m⠧\u001b[0m Container homework-grafana-1  Startin...                                \u001b[34m0.8s \u001b[0m\n",
      " \u001b[33m⠧\u001b[0m Container homework-adminer-1  Startin...                                \u001b[34m0.8s \u001b[0m\n",
      " \u001b[32m✔\u001b[0m Container homework-db-1       \u001b[32mStarted\u001b[0m                                   \u001b[34m0.8s \u001b[0m\n",
      "\u001b[?25h\u001b[1A\u001b[1A\u001b[1A\u001b[1A\u001b[1A\u001b[1A\u001b[0G\u001b[?25l[+] Running 3/5\n",
      " \u001b[32m✔\u001b[0m Network homework_front-tier   \u001b[32mCreated\u001b[0m                                   \u001b[34m0.1s \u001b[0m\n",
      " \u001b[32m✔\u001b[0m Network homework_back-tier    \u001b[32mCreated\u001b[0m                                   \u001b[34m0.1s \u001b[0m\n",
      " \u001b[33m⠇\u001b[0m Container homework-grafana-1  Startin...                                \u001b[34m0.9s \u001b[0m\n",
      " \u001b[33m⠇\u001b[0m Container homework-adminer-1  Startin...                                \u001b[34m0.9s \u001b[0m\n",
      " \u001b[32m✔\u001b[0m Container homework-db-1       \u001b[32mStarted\u001b[0m                                   \u001b[34m0.8s \u001b[0m\n",
      "\u001b[?25h\u001b[1A\u001b[1A\u001b[1A\u001b[1A\u001b[1A\u001b[1A\u001b[0G\u001b[?25l[+] Running 4/5\n",
      " \u001b[32m✔\u001b[0m Network homework_front-tier   \u001b[32mCreated\u001b[0m                                   \u001b[34m0.1s \u001b[0m\n",
      " \u001b[32m✔\u001b[0m Network homework_back-tier    \u001b[32mCreated\u001b[0m                                   \u001b[34m0.1s \u001b[0m\n",
      " \u001b[33m⠏\u001b[0m Container homework-grafana-1  Startin...                                \u001b[34m1.0s \u001b[0m\n",
      " \u001b[32m✔\u001b[0m Container homework-adminer-1  \u001b[32mStarted\u001b[0m                                   \u001b[34m1.0s \u001b[0m\n",
      " \u001b[32m✔\u001b[0m Container homework-db-1       \u001b[32mStarted\u001b[0m                                   \u001b[34m0.8s \u001b[0m\n",
      "\u001b[?25h\u001b[1A\u001b[1A\u001b[1A\u001b[1A\u001b[1A\u001b[1A\u001b[0G\u001b[?25l\u001b[34m[+] Running 5/5\u001b[0m\n",
      " \u001b[32m✔\u001b[0m Network homework_front-tier   \u001b[32mCreated\u001b[0m                                   \u001b[34m0.1s \u001b[0m\n",
      " \u001b[32m✔\u001b[0m Network homework_back-tier    \u001b[32mCreated\u001b[0m                                   \u001b[34m0.1s \u001b[0m\n",
      " \u001b[32m✔\u001b[0m Container homework-grafana-1  \u001b[32mStarted\u001b[0m                                   \u001b[34m1.1s \u001b[0m\n",
      " \u001b[32m✔\u001b[0m Container homework-adminer-1  \u001b[32mStarted\u001b[0m                                   \u001b[34m1.0s \u001b[0m\n",
      " \u001b[32m✔\u001b[0m Container homework-db-1       \u001b[32mStarted\u001b[0m                                   \u001b[34m0.8s \u001b[0m\n",
      "\u001b[?25h"
     ]
    }
   ],
   "source": [
    "! docker compose up -d --build"
   ]
  },
  {
   "cell_type": "markdown",
   "metadata": {},
   "source": [
    "Grafana login -> http://127.0.0.1:3000/ `admin`:`admin`\n",
    "\n",
    "PostgreSQL login -> http://127.0.0.1:8080/index.php `postgres`:`postgres`\n",
    "\n",
    "DB name: `test`\n",
    "\n",
    "Metric that I choose is `ColumnSummaryMetric` for the prediction as our extra metric."
   ]
  },
  {
   "cell_type": "markdown",
   "metadata": {},
   "source": [
    "# Q3. Monitoring\n",
    "Run `monitoring_data.py` file with this parameters:\n",
    "```bash\n",
    "python monitoring_data.py --data-file ./data/green_tripdata_2024-03.parquet --ref-data-file ./data/reference.parquet\n",
    "```"
   ]
  },
  {
   "cell_type": "code",
   "execution_count": 9,
   "metadata": {},
   "outputs": [
    {
     "name": "stdout",
     "output_type": "stream",
     "text": [
      "\u001b[2;36m[06/23/24 16:17:31]\u001b[0m\u001b[2;36m \u001b[0m\u001b[34mINFO    \u001b[0m Loading data                 \u001b]8;id=666135;file:///workspaces/mlops-zoomcamp/05-monitoring/homework/monitoring_data.py\u001b\\\u001b[2mmonitoring_data.py\u001b[0m\u001b]8;;\u001b\\\u001b[2m:\u001b[0m\u001b]8;id=411401;file:///workspaces/mlops-zoomcamp/05-monitoring/homework/monitoring_data.py#192\u001b\\\u001b[2m192\u001b[0m\u001b]8;;\u001b\\\n",
      "\u001b[2;36m[06/23/24 16:17:32]\u001b[0m\u001b[2;36m \u001b[0m\u001b[34mINFO    \u001b[0m Loading model                \u001b]8;id=988588;file:///workspaces/mlops-zoomcamp/05-monitoring/homework/monitoring_data.py\u001b\\\u001b[2mmonitoring_data.py\u001b[0m\u001b]8;;\u001b\\\u001b[2m:\u001b[0m\u001b]8;id=796973;file:///workspaces/mlops-zoomcamp/05-monitoring/homework/monitoring_data.py#197\u001b\\\u001b[2m197\u001b[0m\u001b]8;;\u001b\\\n",
      "\u001b[2;36m                   \u001b[0m\u001b[2;36m \u001b[0m\u001b[34mINFO    \u001b[0m Starting analysis            \u001b]8;id=114232;file:///workspaces/mlops-zoomcamp/05-monitoring/homework/monitoring_data.py\u001b\\\u001b[2mmonitoring_data.py\u001b[0m\u001b]8;;\u001b\\\u001b[2m:\u001b[0m\u001b]8;id=150203;file:///workspaces/mlops-zoomcamp/05-monitoring/homework/monitoring_data.py#205\u001b\\\u001b[2m205\u001b[0m\u001b]8;;\u001b\\\n",
      "\u001b[2KWARNING:root:Column ehail_fee have different types in reference object and  0%\u001b[0m \u001b[36m-:--:--\u001b[0m\n",
      "current float64. Returning type from reference\n",
      "\u001b[2KWARNING:root:Column ehail_fee have different types in reference object and  0%\u001b[0m \u001b[36m-:--:--\u001b[0m\n",
      "current float64. Returning type from reference\n",
      "\u001b[2KWARNING:root:Column ehail_fee have different types in reference object and ━━━━━━━\u001b[0m \u001b[35m  3%\u001b[0m \u001b[36m-:--:--\u001b[0m\n",
      "current float64. Returning type from reference\n",
      "\u001b[2KWARNING:root:Column ehail_fee have different types in reference object and ━━━━━━━\u001b[0m \u001b[35m  6%\u001b[0m \u001b[36m0:09:27\u001b[0m\n",
      "current float64. Returning type from reference\n",
      "\u001b[2KWARNING:root:Column ehail_fee have different types in reference object and ━━━━━━━\u001b[0m \u001b[35m 10%\u001b[0m \u001b[36m0:04:40\u001b[0m\n",
      "current float64. Returning type from reference\n",
      "\u001b[2KWARNING:root:Column ehail_fee have different types in reference object and ━━━━━━━\u001b[0m \u001b[35m 13%\u001b[0m \u001b[36m0:04:31\u001b[0m\n",
      "current float64. Returning type from reference\n",
      "\u001b[2KWARNING:root:Column ehail_fee have different types in reference object and ━━━━━━━\u001b[0m \u001b[35m 16%\u001b[0m \u001b[36m0:02:57\u001b[0m\n",
      "current float64. Returning type from reference\n",
      "\u001b[2KWARNING:root:Column ehail_fee have different types in reference object and ━━━━━━━\u001b[0m \u001b[35m 19%\u001b[0m \u001b[36m0:04:10\u001b[0m\n",
      "current float64. Returning type from reference\n",
      "\u001b[2KWARNING:root:Column ehail_fee have different types in reference object and ━━━━━━━\u001b[0m \u001b[35m 23%\u001b[0m \u001b[36m0:02:43\u001b[0m\n",
      "current float64. Returning type from reference\n",
      "\u001b[2KWARNING:root:Column ehail_fee have different types in reference object and ━━━━━━━\u001b[0m \u001b[35m 26%\u001b[0m \u001b[36m0:03:50\u001b[0m\n",
      "current float64. Returning type from reference\n",
      "\u001b[2KWARNING:root:Column ehail_fee have different types in reference object and ━━━━━━━\u001b[0m \u001b[35m 29%\u001b[0m \u001b[36m0:02:30\u001b[0m\n",
      "current float64. Returning type from reference\n",
      "\u001b[2KWARNING:root:Column ehail_fee have different types in reference object and ━━━━━━━\u001b[0m \u001b[35m 32%\u001b[0m \u001b[36m0:03:31\u001b[0m\n",
      "current float64. Returning type from reference\n",
      "\u001b[2KWARNING:root:Column ehail_fee have different types in reference object and ━━━━━━━\u001b[0m \u001b[35m 35%\u001b[0m \u001b[36m0:02:17\u001b[0m\n",
      "current float64. Returning type from reference\n",
      "\u001b[2KWARNING:root:Column ehail_fee have different types in reference object and ━━━━━━━\u001b[0m \u001b[35m 39%\u001b[0m \u001b[36m0:03:10\u001b[0m\n",
      "current float64. Returning type from reference\n",
      "\u001b[2KWARNING:root:Column ehail_fee have different types in reference object and ━━━━━━━\u001b[0m \u001b[35m 42%\u001b[0m \u001b[36m0:02:03\u001b[0m\n",
      "current float64. Returning type from reference\n",
      "\u001b[2KWARNING:root:Column ehail_fee have different types in reference object and ━━━━━━━\u001b[0m \u001b[35m 45%\u001b[0m \u001b[36m0:02:51\u001b[0m\n",
      "current float64. Returning type from reference\n",
      "\u001b[2KWARNING:root:Column ehail_fee have different types in reference object and ━━━━━━━\u001b[0m \u001b[35m 48%\u001b[0m \u001b[36m0:01:50\u001b[0m\n",
      "current float64. Returning type from reference\n",
      "\u001b[2KWARNING:root:Column ehail_fee have different types in reference object and ━━━━━━━\u001b[0m \u001b[35m 52%\u001b[0m \u001b[36m0:02:30\u001b[0m\n",
      "current float64. Returning type from reference\n",
      "\u001b[2KWARNING:root:Column ehail_fee have different types in reference object and ━━━━━━━\u001b[0m \u001b[35m 55%\u001b[0m \u001b[36m0:01:35\u001b[0m\n",
      "current float64. Returning type from reference\n",
      "\u001b[2KWARNING:root:Column ehail_fee have different types in reference object and ━━━━━━━\u001b[0m \u001b[35m 58%\u001b[0m \u001b[36m0:02:10\u001b[0m\n",
      "current float64. Returning type from reference\n",
      "\u001b[2KWARNING:root:Column ehail_fee have different types in reference object and ━━━━━━━\u001b[0m \u001b[35m 61%\u001b[0m \u001b[36m0:01:22\u001b[0m\n",
      "current float64. Returning type from reference\n",
      "\u001b[2KWARNING:root:Column ehail_fee have different types in reference object and ━━━━━━━\u001b[0m \u001b[35m 65%\u001b[0m \u001b[36m0:01:50\u001b[0m\n",
      "current float64. Returning type from reference\n",
      "\u001b[2KWARNING:root:Column ehail_fee have different types in reference object and ━━━━━━━\u001b[0m \u001b[35m 68%\u001b[0m \u001b[36m0:01:08\u001b[0m\n",
      "current float64. Returning type from reference\n",
      "\u001b[2KWARNING:root:Column ehail_fee have different types in reference object and ━━━━━━━\u001b[0m \u001b[35m 71%\u001b[0m \u001b[36m0:01:30\u001b[0m\n",
      "current float64. Returning type from reference\n",
      "\u001b[2KWARNING:root:Column ehail_fee have different types in reference object and ━━━━━━━\u001b[0m \u001b[35m 74%\u001b[0m \u001b[36m0:00:55\u001b[0m\n",
      "current float64. Returning type from reference\n",
      "\u001b[2KWARNING:root:Column ehail_fee have different types in reference object and ━━━━━━━\u001b[0m \u001b[35m 77%\u001b[0m \u001b[36m0:01:11\u001b[0m\n",
      "current float64. Returning type from reference\n",
      "\u001b[2KWARNING:root:Column ehail_fee have different types in reference object and ━━━━━━━\u001b[0m \u001b[35m 81%\u001b[0m \u001b[36m0:00:41\u001b[0m\n",
      "current float64. Returning type from reference\n",
      "\u001b[2KWARNING:root:Column ehail_fee have different types in reference object and m━━━━━━\u001b[0m \u001b[35m 84%\u001b[0m \u001b[36m0:00:51\u001b[0m\n",
      "current float64. Returning type from reference\n",
      "\u001b[2KWARNING:root:Column ehail_fee have different types in reference object and 0m━━━━━\u001b[0m \u001b[35m 87%\u001b[0m \u001b[36m0:00:28\u001b[0m\n",
      "current float64. Returning type from reference\n",
      "\u001b[2KWARNING:root:Column ehail_fee have different types in reference object and [90m━━━\u001b[0m \u001b[35m 90%\u001b[0m \u001b[36m0:00:31\u001b[0m\n",
      "current float64. Returning type from reference\n",
      "\u001b[2KWARNING:root:Column ehail_fee have different types in reference object and \u001b[90m━━\u001b[0m \u001b[35m 94%\u001b[0m \u001b[36m0:00:14\u001b[0m\n",
      "current float64. Returning type from reference\n",
      "\u001b[2KProcessing data... \u001b[90m━━━━━━━━━━━━━━━━━━━━━━━━━━━━━━━━━━━━━━━━\u001b[0m \u001b[35m100%\u001b[0m \u001b[33m0:05:00\u001b[0mm \u001b[36m0:00:10\u001b[0m\n",
      "\u001b[?25hThe maximum daily median for fare_amount for 3/2024 is 14.2\n"
     ]
    }
   ],
   "source": [
    "! python monitoring_data.py --data-file ./data/green_tripdata_2024-03.parquet --ref-data-file ./data/reference.parquet"
   ]
  },
  {
   "attachments": {
    "image.png": {
     "image/png": "[encoded data removed]"
    }
   },
   "cell_type": "markdown",
   "metadata": {},
   "source": [
    "Maximum fare amount of March 2024 daily is `14.2`\n",
    "\n",
    "![image.png](attachment:image.png)"
   ]
  },
  {
   "cell_type": "markdown",
   "metadata": {},
   "source": [
    "# Q4. Dashboard\n",
    "Grafana dashboard config file saved in `project_folder/dashboards`"
   ]
  }
 ],
 "metadata": {
  "kernelspec": {
   "display_name": "homework-bgBEjEZD",
   "language": "python",
   "name": "python3"
  },
  "language_info": {
   "codemirror_mode": {
    "name": "ipython",
    "version": 3
   },
   "file_extension": ".py",
   "mimetype": "text/x-python",
   "name": "python",
   "nbconvert_exporter": "python",
   "pygments_lexer": "ipython3",
   "version": "3.10.13"
  }
 },
 "nbformat": 4,
 "nbformat_minor": 2
}
